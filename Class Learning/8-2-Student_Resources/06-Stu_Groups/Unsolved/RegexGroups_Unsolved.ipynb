{
 "cells": [
  {
   "cell_type": "code",
   "execution_count": 1,
   "metadata": {
    "collapsed": true
   },
   "outputs": [],
   "source": [
    "import pandas as pd\n",
    "import re\n",
    "pd.options.display.max_colwidth = 100"
   ]
  },
  {
   "cell_type": "code",
   "execution_count": 2,
   "metadata": {},
   "outputs": [
    {
     "name": "stderr",
     "output_type": "stream",
     "text": [
      "C:\\Users\\usvisin3\\AppData\\Local\\Temp/ipykernel_32052/1222405860.py:4: ParserWarning: Falling back to the 'python' engine because the 'c' engine does not support regex separators (separators > 1 char and different from '\\s+' are interpreted as regex); you can avoid this warning by specifying engine='python'.\n",
      "  alice_df = pd.read_csv(alice_file, sep='\\r\\n', header=None)\n"
     ]
    },
    {
     "data": {
      "text/html": [
       "<div>\n",
       "<style scoped>\n",
       "    .dataframe tbody tr th:only-of-type {\n",
       "        vertical-align: middle;\n",
       "    }\n",
       "\n",
       "    .dataframe tbody tr th {\n",
       "        vertical-align: top;\n",
       "    }\n",
       "\n",
       "    .dataframe thead th {\n",
       "        text-align: right;\n",
       "    }\n",
       "</style>\n",
       "<table border=\"1\" class=\"dataframe\">\n",
       "  <thead>\n",
       "    <tr style=\"text-align: right;\">\n",
       "      <th></th>\n",
       "      <th>text</th>\n",
       "    </tr>\n",
       "  </thead>\n",
       "  <tbody>\n",
       "    <tr>\n",
       "      <th>0</th>\n",
       "      <td>ALICE’S ADVENTURES IN WONDERLAND</td>\n",
       "    </tr>\n",
       "    <tr>\n",
       "      <th>1</th>\n",
       "      <td>CHAPTER I. Down the Rabbit-Hole</td>\n",
       "    </tr>\n",
       "    <tr>\n",
       "      <th>2</th>\n",
       "      <td>Alice was beginning to get very tired of sitting by her sister on the</td>\n",
       "    </tr>\n",
       "    <tr>\n",
       "      <th>3</th>\n",
       "      <td>bank, and of having nothing to do: once or twice she had peeped into the</td>\n",
       "    </tr>\n",
       "    <tr>\n",
       "      <th>4</th>\n",
       "      <td>book her sister was reading, but it had no pictures or conversations in</td>\n",
       "    </tr>\n",
       "  </tbody>\n",
       "</table>\n",
       "</div>"
      ],
      "text/plain": [
       "                                                                       text\n",
       "0                                          ALICE’S ADVENTURES IN WONDERLAND\n",
       "1                                           CHAPTER I. Down the Rabbit-Hole\n",
       "2     Alice was beginning to get very tired of sitting by her sister on the\n",
       "3  bank, and of having nothing to do: once or twice she had peeped into the\n",
       "4   book her sister was reading, but it had no pictures or conversations in"
      ]
     },
     "execution_count": 2,
     "metadata": {},
     "output_type": "execute_result"
    }
   ],
   "source": [
    "# load in Alice in Wonderland text\n",
    "alice_file = '../Resources/alice.txt'\n",
    "\n",
    "alice_df = pd.read_csv(alice_file, sep='\\r\\n', header=None)\n",
    "alice_df.columns = ['text']\n",
    "alice_df.head()"
   ]
  },
  {
   "cell_type": "code",
   "execution_count": 33,
   "metadata": {},
   "outputs": [
    {
     "data": {
      "text/html": [
       "<div>\n",
       "<style scoped>\n",
       "    .dataframe tbody tr th:only-of-type {\n",
       "        vertical-align: middle;\n",
       "    }\n",
       "\n",
       "    .dataframe tbody tr th {\n",
       "        vertical-align: top;\n",
       "    }\n",
       "\n",
       "    .dataframe thead th {\n",
       "        text-align: right;\n",
       "    }\n",
       "</style>\n",
       "<table border=\"1\" class=\"dataframe\">\n",
       "  <thead>\n",
       "    <tr style=\"text-align: right;\">\n",
       "      <th></th>\n",
       "      <th></th>\n",
       "      <th>0</th>\n",
       "    </tr>\n",
       "    <tr>\n",
       "      <th></th>\n",
       "      <th>match</th>\n",
       "      <th></th>\n",
       "    </tr>\n",
       "  </thead>\n",
       "  <tbody>\n",
       "    <tr>\n",
       "      <th>4</th>\n",
       "      <th>0</th>\n",
       "      <td>conversations</td>\n",
       "    </tr>\n",
       "    <tr>\n",
       "      <th>235</th>\n",
       "      <th>0</th>\n",
       "      <td>Multiplication</td>\n",
       "    </tr>\n",
       "    <tr>\n",
       "      <th>292</th>\n",
       "      <th>0</th>\n",
       "      <td>hippopotamus</td>\n",
       "    </tr>\n",
       "    <tr>\n",
       "      <th>353</th>\n",
       "      <th>0</th>\n",
       "      <td>uncomfortable</td>\n",
       "    </tr>\n",
       "    <tr>\n",
       "      <th>578</th>\n",
       "      <th>0</th>\n",
       "      <td>nevertheless</td>\n",
       "    </tr>\n",
       "    <tr>\n",
       "      <th>597</th>\n",
       "      <th>0</th>\n",
       "      <td>uncomfortable</td>\n",
       "    </tr>\n",
       "    <tr>\n",
       "      <th>616</th>\n",
       "      <th>0</th>\n",
       "      <td>conversation</td>\n",
       "    </tr>\n",
       "    <tr>\n",
       "      <th>747</th>\n",
       "      <th>0</th>\n",
       "      <td>circumstances</td>\n",
       "    </tr>\n",
       "    <tr>\n",
       "      <th>761</th>\n",
       "      <th>0</th>\n",
       "      <td>conversation</td>\n",
       "    </tr>\n",
       "    <tr>\n",
       "      <th>781</th>\n",
       "      <th>0</th>\n",
       "      <td>contemptuously</td>\n",
       "    </tr>\n",
       "  </tbody>\n",
       "</table>\n",
       "</div>"
      ],
      "text/plain": [
       "                         0\n",
       "    match                 \n",
       "4   0        conversations\n",
       "235 0       Multiplication\n",
       "292 0         hippopotamus\n",
       "353 0        uncomfortable\n",
       "578 0         nevertheless\n",
       "597 0        uncomfortable\n",
       "616 0         conversation\n",
       "747 0        circumstances\n",
       "761 0         conversation\n",
       "781 0       contemptuously"
      ]
     },
     "execution_count": 33,
     "metadata": {},
     "output_type": "execute_result"
    }
   ],
   "source": [
    "# extract all words with 12 or more letters\n",
    "p = '(\\s\\w{12,})'\n",
    "alice_df['text'].str.extractall(p, flags=re.I).dropna().head(10)"
   ]
  },
  {
   "cell_type": "code",
   "execution_count": 16,
   "metadata": {},
   "outputs": [
    {
     "data": {
      "text/plain": [
       "0      1      \n",
       "Alice   though    12\n",
       "        looked     8\n",
       "        replie     8\n",
       "        ventur     4\n",
       "        hastil     4\n",
       "        indign     3\n",
       "        waited     3\n",
       "        whispe     2\n",
       "        called     2\n",
       "        cautio     2\n",
       "        notice     2\n",
       "        remark     2\n",
       "        guesse     2\n",
       "        recogn     1\n",
       "        remain     1\n",
       "        sharpl     1\n",
       "        severe     1\n",
       "        quietl     1\n",
       "        sighed     1\n",
       "        starte     1\n",
       "        timidl     1\n",
       "        turned     1\n",
       "        watche     1\n",
       "        rather     1\n",
       "        angril     1\n",
       "        panted     1\n",
       "        opened     1\n",
       "        appear     1\n",
       "        laughe     1\n",
       "        joined     1\n",
       "        hersel     1\n",
       "        glance     1\n",
       "        gently     1\n",
       "        folded     1\n",
       "        doubtf     1\n",
       "        dodged     1\n",
       "        desper     1\n",
       "        crouch     1\n",
       "        consid     1\n",
       "        caught     1\n",
       "        loudly     1\n",
       "dtype: int64"
      ]
     },
     "execution_count": 16,
     "metadata": {},
     "output_type": "execute_result"
    }
   ],
   "source": [
    "# Find all the words that come after \"Alice\" in the text and count their frequency\n",
    "p = '(Alice)(\\s\\w{6})'\n",
    "alice_df['text'].str.extractall(p, flags=re.I).value_counts()"
   ]
  },
  {
   "cell_type": "code",
   "execution_count": 19,
   "metadata": {},
   "outputs": [
    {
     "data": {
      "text/plain": [
       "0      1            \n",
       "Alice   thought         11\n",
       "        could           10\n",
       "        looked           8\n",
       "        replied          8\n",
       "        began            6\n",
       "        ventured         4\n",
       "        hastily          4\n",
       "        heard            3\n",
       "        indignantly      3\n",
       "        waited           3\n",
       "        asked            3\n",
       "        cautiously       2\n",
       "        quite            2\n",
       "        remarked         2\n",
       "        guessed          2\n",
       "        noticed          2\n",
       "        called           2\n",
       "        whispered        2\n",
       "        again            2\n",
       "        remained         1\n",
       "        recognised       1\n",
       "        sadly            1\n",
       "        added            1\n",
       "        think            1\n",
       "        severely         1\n",
       "        sharply          1\n",
       "        sighed           1\n",
       "        started          1\n",
       "        thoughtfully     1\n",
       "        timidly          1\n",
       "        tried            1\n",
       "        turned           1\n",
       "        watched          1\n",
       "        rather           1\n",
       "        laughed          1\n",
       "        quietly          1\n",
       "        panted           1\n",
       "        alone            1\n",
       "        aloud            1\n",
       "        angrily          1\n",
       "        appeared         1\n",
       "        caught           1\n",
       "        considered       1\n",
       "        crouched         1\n",
       "        desperately      1\n",
       "        dodged           1\n",
       "        doubtfully       1\n",
       "        folded           1\n",
       "        found            1\n",
       "        gently           1\n",
       "        glanced          1\n",
       "        herself          1\n",
       "        joined           1\n",
       "        after            1\n",
       "        loudly           1\n",
       "        opened           1\n",
       "        would            1\n",
       "dtype: int64"
      ]
     },
     "execution_count": 19,
     "metadata": {},
     "output_type": "execute_result"
    }
   ],
   "source": [
    "# Find all the words 5 letters or longer that come after \"Alice\" in the text and count their frequency\n",
    "p = '(Alice)(\\s\\w{5,})'\n",
    "alice_df['text'].str.extractall(p, flags=re.I).value_counts()"
   ]
  },
  {
   "cell_type": "code",
   "execution_count": 27,
   "metadata": {},
   "outputs": [
    {
     "data": {
      "text/plain": [
       " hastily                                         2\n",
       " cautiously                                      2\n",
       " went on, half to herself, as she swam lazily    1\n",
       " kept her eyes anxiously                         1\n",
       ". ‘But you’re so easily                          1\n",
       " replied in a very melancholy                    1\n",
       " waited patiently                                1\n",
       " thought decidedly                               1\n",
       " felt dreadfully                                 1\n",
       " gently                                          1\n",
       " was very nearly                                 1\n",
       " was thoroughly                                  1\n",
       "Name: 1, dtype: int64"
      ]
     },
     "execution_count": 27,
     "metadata": {},
     "output_type": "execute_result"
    }
   ],
   "source": [
    "# Find all the words 5 letters or longer that don't end in \"ly\" that come after \"Alice\" in the text and count their frequency\n",
    "p = '(Alice)(.+ly)(\\s\\w{5,})'\n",
    "alice_df['text'].str.extractall(p, flags=re.I)[1].value_counts()"
   ]
  },
  {
   "cell_type": "code",
   "execution_count": null,
   "metadata": {
    "collapsed": true
   },
   "outputs": [],
   "source": []
  }
 ],
 "metadata": {
  "kernelspec": {
   "display_name": "Python 3",
   "language": "python",
   "name": "python3"
  },
  "language_info": {
   "codemirror_mode": {
    "name": "ipython",
    "version": 3
   },
   "file_extension": ".py",
   "mimetype": "text/x-python",
   "name": "python",
   "nbconvert_exporter": "python",
   "pygments_lexer": "ipython3",
   "version": "3.6.3"
  }
 },
 "nbformat": 4,
 "nbformat_minor": 2
}
