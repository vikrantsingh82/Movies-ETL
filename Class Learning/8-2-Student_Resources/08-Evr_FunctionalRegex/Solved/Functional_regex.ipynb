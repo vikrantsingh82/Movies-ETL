{
 "cells": [
  {
   "cell_type": "code",
   "execution_count": 1,
   "metadata": {},
   "outputs": [],
   "source": [
    "import pandas as pd\n",
    "import re\n",
    "pd.options.display.max_colwidth = 100"
   ]
  },
  {
   "cell_type": "code",
   "execution_count": 2,
   "metadata": {},
   "outputs": [],
   "source": [
    "# Set variables to text files\n",
    "alice_file = '../Resources/alice.txt'\n",
    "sherlock_file = '../Resources/sherlock.txt'"
   ]
  },
  {
   "cell_type": "code",
   "execution_count": 3,
   "metadata": {},
   "outputs": [],
   "source": [
    "# Create a function to find how many questions are asked in a text\n",
    "def question_count(text_file):\n",
    "    # Load text file into a DataFrame\n",
    "    text_df = pd.read_csv(text_file, sep='\\n', header=None)\n",
    "    text_df.columns = ['text']\n",
    "    \n",
    "    # Create regex to find lines that end in a ?\n",
    "    p = '\\?$'\n",
    "    question_df = text_df[text_df['text'].str.contains(p)]\n",
    "    \n",
    "    return len(question_df)"
   ]
  },
  {
   "cell_type": "code",
   "execution_count": 4,
   "metadata": {},
   "outputs": [
    {
     "name": "stdout",
     "output_type": "stream",
     "text": [
      "12\n"
     ]
    }
   ],
   "source": [
    "# Print questions asked in the Alice text\n",
    "print(question_count(alice_file))"
   ]
  },
  {
   "cell_type": "code",
   "execution_count": 5,
   "metadata": {},
   "outputs": [
    {
     "name": "stdout",
     "output_type": "stream",
     "text": [
      "18\n"
     ]
    }
   ],
   "source": [
    "# Print Questions asked in the Holmes text\n",
    "print(question_count(sherlock_file))"
   ]
  },
  {
   "cell_type": "code",
   "execution_count": 6,
   "metadata": {},
   "outputs": [],
   "source": [
    "# Create a function that will create a DataFrame for all 6+ lengths word following a character\n",
    "def word_count(text_file, character):\n",
    "    \n",
    "    # Load text file into a DataFrame\n",
    "    text_df = pd.read_csv(text_file, sep='\\n', header=None)\n",
    "    text_df.columns = ['text']\n",
    "    \n",
    "    # Create regex string for the character\n",
    "    p = '('+ character + ')' + '(\\s*\\w{6,})'\n",
    "    \n",
    "    # Group the character and the words\n",
    "    word_groups_df = text_df['text'].str.extractall(p)\n",
    "    \n",
    "    # Return \n",
    "    return word_groups_df[1].value_counts()"
   ]
  },
  {
   "cell_type": "code",
   "execution_count": 7,
   "metadata": {},
   "outputs": [
    {
     "data": {
      "text/plain": [
       " thought         11\n",
       " looked           8\n",
       " replied          8\n",
       " hastily          4\n",
       " ventured         4\n",
       " waited           3\n",
       " indignantly      3\n",
       " called           2\n",
       " whispered        2\n",
       " remarked         2\n",
       " cautiously       2\n",
       " noticed          2\n",
       " guessed          2\n",
       " severely         1\n",
       " loudly           1\n",
       " sharply          1\n",
       " appeared         1\n",
       " laughed          1\n",
       " started          1\n",
       " caught           1\n",
       " crouched         1\n",
       " panted           1\n",
       " doubtfully       1\n",
       " rather           1\n",
       " angrily          1\n",
       " folded           1\n",
       " opened           1\n",
       " herself          1\n",
       " considered       1\n",
       " recognised       1\n",
       " dodged           1\n",
       " thoughtfully     1\n",
       " gently           1\n",
       " joined           1\n",
       " glanced          1\n",
       " sighed           1\n",
       " remained         1\n",
       " turned           1\n",
       " quietly          1\n",
       " watched          1\n",
       " timidly          1\n",
       " desperately      1\n",
       "Name: 1, dtype: int64"
      ]
     },
     "execution_count": 7,
     "metadata": {},
     "output_type": "execute_result"
    }
   ],
   "source": [
    "# Print the Word count for the character Alice\n",
    "word_count(alice_file, \"Alice\")"
   ]
  },
  {
   "cell_type": "code",
   "execution_count": 8,
   "metadata": {},
   "outputs": [
    {
     "data": {
      "text/plain": [
       " replied      1\n",
       " dropped      1\n",
       " grumbled     1\n",
       " instead      1\n",
       " hurriedly    1\n",
       " continued    1\n",
       " opened       1\n",
       " looked       1\n",
       " trembled     1\n",
       "Name: 1, dtype: int64"
      ]
     },
     "execution_count": 8,
     "metadata": {},
     "output_type": "execute_result"
    }
   ],
   "source": [
    "# Print the Word count for the characters Hatter\n",
    "word_count(alice_file, \"Hatter\")"
   ]
  },
  {
   "cell_type": "code",
   "execution_count": 65,
   "metadata": {},
   "outputs": [
    {
     "data": {
      "text/plain": [
       " quietly         4\n",
       " returned        3\n",
       " pushed          3\n",
       " blandly         3\n",
       " answered        3\n",
       " sprang          3\n",
       " laughed         3\n",
       " turned          3\n",
       " gravely         2\n",
       " pulled          2\n",
       " suavely         2\n",
       " leaned          2\n",
       " chuckled        2\n",
       " cheerily        2\n",
       " walked          2\n",
       " clapped         2\n",
       " suddenly        1\n",
       " laying          1\n",
       " closed          1\n",
       " coldly          1\n",
       " hailed          1\n",
       " refused         1\n",
       " remarked        1\n",
       " thrust          1\n",
       " staggered       1\n",
       " desired         1\n",
       " impatient       1\n",
       " looked          1\n",
       " without         1\n",
       " unlocked        1\n",
       " before          1\n",
       " struck          1\n",
       " standing        1\n",
       " scribbled       1\n",
       " stopped         1\n",
       " carelessly      1\n",
       " nodded          1\n",
       " glanced         1\n",
       " stepped         1\n",
       " caught          1\n",
       " twisted         1\n",
       " seemed          1\n",
       " sweetly         1\n",
       " thoughtfully    1\n",
       " grinned         1\n",
       " changed         1\n",
       " calmly          1\n",
       " rushed          1\n",
       " interposed      1\n",
       " continued       1\n",
       " demurely        1\n",
       " lately          1\n",
       " gently          1\n",
       " sternly         1\n",
       " welcomed        1\n",
       "Name: 1, dtype: int64"
      ]
     },
     "execution_count": 65,
     "metadata": {},
     "output_type": "execute_result"
    }
   ],
   "source": [
    "# Print the Word count for the characters Holmes\n",
    "word_count(sherlock_file, \"Holmes\")"
   ]
  },
  {
   "cell_type": "code",
   "execution_count": null,
   "metadata": {},
   "outputs": [],
   "source": []
  }
 ],
 "metadata": {
  "kernelspec": {
   "display_name": "Python [conda env:mypydev] *",
   "language": "python",
   "name": "conda-env-mypydev-py"
  },
  "language_info": {
   "codemirror_mode": {
    "name": "ipython",
    "version": 3
   },
   "file_extension": ".py",
   "mimetype": "text/x-python",
   "name": "python",
   "nbconvert_exporter": "python",
   "pygments_lexer": "ipython3",
   "version": "3.7.7"
  }
 },
 "nbformat": 4,
 "nbformat_minor": 4
}
