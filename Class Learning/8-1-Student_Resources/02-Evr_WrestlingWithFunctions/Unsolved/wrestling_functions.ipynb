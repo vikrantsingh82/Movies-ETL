{
 "cells": [
  {
   "cell_type": "code",
   "execution_count": 28,
   "metadata": {},
   "outputs": [
    {
     "name": "stdout",
     "output_type": "stream",
     "text": [
      "Name: Kofi Kingston\n",
      "Total # of matches: 135\n",
      "% of Wins:  70.37\n",
      "% of Loses:  28.89\n",
      "% of Draws:  0.74\n"
     ]
    }
   ],
   "source": [
    "import os\n",
    "import csv\n",
    "\n",
    "# Path to collect data from the Resources folder\n",
    "wrestling_csv = \"../Resources/WWE-Data-2016.csv\"\n",
    "\n",
    "\n",
    "# Define the function and have it accept the 'wrestlerData' as its sole parameter\n",
    "def wrestling(wrestlerData):\n",
    "    return wrestlerData[0]\n",
    "\n",
    "# Find the total number of matches wrestled\n",
    "def wrestling_total_matches(wrestlerData):\n",
    "    return int(wrestlerData[1]) + int(wrestlerData[2]) + int(wrestlerData[3])\n",
    "# Find the percentage of matches won\n",
    "def percentage_win(wrestlerData):\n",
    "    return round(float((int(wrestlerData[1])/wrestling_total_matches(wrestlerData))*100 ),2)\n",
    "# Find the percentage of matches lost\n",
    "def percentage_loses(wrestlerData):\n",
    "    return round(float((int(wrestlerData[2])/wrestling_total_matches(wrestlerData))*100 ),2)\n",
    "# Find the percentage of matches drawn\n",
    "def percentage_draw(wrestlerData):\n",
    "    return round(float((int(wrestlerData[3])/wrestling_total_matches(wrestlerData))*100 ),2)\n",
    "\n",
    "# Print out the wrestler's name and their percentage stats\n",
    "def print_percentages(wrestlerData):\n",
    "    print (f\"Name: { wrestling(wrestlerData)}\")\n",
    "    print (f\"Total # of matches: { wrestling_total_matches(wrestlerData)}\")\n",
    "    print (f\"% of Wins:  { percentage_win(wrestlerData)}\")\n",
    "    print (f\"% of Loses:  { percentage_loses(wrestlerData)}\")\n",
    "    print (f\"% of Draws:  { percentage_draw(wrestlerData)}\")\n",
    "\n",
    "\n",
    "with open(wrestling_csv, 'r') as csvfile:\n",
    "\n",
    "    # Split the data on commas\n",
    "    csvreader = csv.reader(csvfile, delimiter=',')\n",
    "\n",
    "    # Prompt the user for what wrestler they would like to search for\n",
    "    name_to_check = input(\"What wrestler do you want to look for? \")\n",
    "    # Loop through the data\n",
    "    for row in csvreader:\n",
    "        # If the wrestler's name in a row is equal to that which the user input, run the 'print_percentages()' function\n",
    "        if(name_to_check == row[0]):\n",
    "            print_percentages(row)\n",
    "        # else:\n",
    "        #     print(name_to_check +\" not found\" + row[0])\n",
    "\n"
   ]
  }
 ],
 "metadata": {
  "interpreter": {
   "hash": "3aa4caedcba6e21436cec6839eaed3ef0098b34bd60a24d6679d33aed2748339"
  },
  "kernelspec": {
   "display_name": "Python 3.9.7 ('PyhtonData')",
   "language": "python",
   "name": "python3"
  },
  "language_info": {
   "codemirror_mode": {
    "name": "ipython",
    "version": 3
   },
   "file_extension": ".py",
   "mimetype": "text/x-python",
   "name": "python",
   "nbconvert_exporter": "python",
   "pygments_lexer": "ipython3",
   "version": "3.9.7"
  },
  "orig_nbformat": 4
 },
 "nbformat": 4,
 "nbformat_minor": 2
}
