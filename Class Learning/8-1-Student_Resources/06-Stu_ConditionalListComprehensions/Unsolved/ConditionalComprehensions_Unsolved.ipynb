{
 "cells": [
  {
   "cell_type": "markdown",
   "metadata": {},
   "source": [
    "Use conditional list comprehensions to create the lists requested in the following cells.\n",
    "\n",
    "**Hint**: Remember the modulo operator (%) !\n",
    "\n",
    "`x % y` gives the remainder if `x` is divided by `y`. So, for instance `x % 2` will be `0` when x is even, and `1` when x is odd"
   ]
  },
  {
   "cell_type": "code",
   "execution_count": null,
   "metadata": {},
   "outputs": [],
   "source": [
    "# Make a list of numbers up to 100 that are divisible by three\n",
    "\n",
    "number_divisible_by_three = [x for x in range(100) if x % 3 == 0]\n",
    "number_divisible_by_three\n"
   ]
  },
  {
   "cell_type": "code",
   "execution_count": null,
   "metadata": {},
   "outputs": [],
   "source": [
    "[ 'Even' if x%2 ==0 else 'Odd' for x in range(100)]"
   ]
  },
  {
   "cell_type": "code",
   "execution_count": null,
   "metadata": {},
   "outputs": [],
   "source": [
    "# Use conditional list comprehensions to create a list of all the pet names that are for dogs\n",
    "pets = [{\n",
    "    'name': 'Fido',\n",
    "    'age': 4,\n",
    "    'type': 'dog'\n",
    "}, {\n",
    "    'name': 'Rex',\n",
    "    'age': 2,\n",
    "    'type': 'dog'\n",
    "}, {\n",
    "    'name': 'Puddles',\n",
    "    'age': 7,\n",
    "    'type': 'wombat'\n",
    "}, {\n",
    "    'name': 'Tuna',\n",
    "    'age': 6,\n",
    "    'type': 'cat'\n",
    "}, {\n",
    "    'name': 'Springer',\n",
    "    'age': 5,\n",
    "    'type': 'dog'\n",
    "}]\n",
    "\n",
    "[pet['name'] for pet in pets if pet['type'] =='dog']\n",
    "\n",
    "# for pet in pets:\n",
    "#     if pet['type'] =='dog':\n",
    "#         print(pet['name'])\n"
   ]
  },
  {
   "cell_type": "code",
   "execution_count": 17,
   "metadata": {},
   "outputs": [
    {
     "data": {
      "text/plain": [
       "[0, 5, 10, 15, 20, 25, 30, 35, 40, 45, 50, 55, 60, 65, 70, 75, 80, 85, 90, 95]"
      ]
     },
     "execution_count": 17,
     "metadata": {},
     "output_type": "execute_result"
    }
   ],
   "source": [
    "# Make a list of numbers up to 100 that are divisible by three OR divisible by five\n",
    "number_divisible_by_five = [x for x in range(100) if x % 5 == 0]\n",
    "number_divisible_by_five"
   ]
  },
  {
   "cell_type": "code",
   "execution_count": 26,
   "metadata": {},
   "outputs": [
    {
     "data": {
      "text/plain": [
       "['FizzBuzz',\n",
       " 'Buzz',\n",
       " 'Buzz',\n",
       " 'Fizz',\n",
       " 'Buzz',\n",
       " 'Buzz',\n",
       " 'Fizz',\n",
       " 'Buzz',\n",
       " 'Buzz',\n",
       " 'Fizz',\n",
       " 'Buzz',\n",
       " 'Buzz',\n",
       " 'Fizz',\n",
       " 'Buzz',\n",
       " 'Buzz',\n",
       " 'FizzBuzz',\n",
       " 'Buzz',\n",
       " 'Buzz',\n",
       " 'Fizz',\n",
       " 'Buzz',\n",
       " 'Buzz',\n",
       " 'Fizz',\n",
       " 'Buzz',\n",
       " 'Buzz',\n",
       " 'Fizz',\n",
       " 'Buzz',\n",
       " 'Buzz',\n",
       " 'Fizz',\n",
       " 'Buzz',\n",
       " 'Buzz',\n",
       " 'FizzBuzz',\n",
       " 'Buzz',\n",
       " 'Buzz',\n",
       " 'Fizz',\n",
       " 'Buzz',\n",
       " 'Buzz',\n",
       " 'Fizz',\n",
       " 'Buzz',\n",
       " 'Buzz',\n",
       " 'Fizz',\n",
       " 'Buzz',\n",
       " 'Buzz',\n",
       " 'Fizz',\n",
       " 'Buzz',\n",
       " 'Buzz',\n",
       " 'FizzBuzz',\n",
       " 'Buzz',\n",
       " 'Buzz',\n",
       " 'Fizz',\n",
       " 'Buzz',\n",
       " 'Buzz',\n",
       " 'Fizz',\n",
       " 'Buzz',\n",
       " 'Buzz',\n",
       " 'Fizz',\n",
       " 'Buzz',\n",
       " 'Buzz',\n",
       " 'Fizz',\n",
       " 'Buzz',\n",
       " 'Buzz',\n",
       " 'FizzBuzz',\n",
       " 'Buzz',\n",
       " 'Buzz',\n",
       " 'Fizz',\n",
       " 'Buzz',\n",
       " 'Buzz',\n",
       " 'Fizz',\n",
       " 'Buzz',\n",
       " 'Buzz',\n",
       " 'Fizz',\n",
       " 'Buzz',\n",
       " 'Buzz',\n",
       " 'Fizz',\n",
       " 'Buzz',\n",
       " 'Buzz',\n",
       " 'FizzBuzz',\n",
       " 'Buzz',\n",
       " 'Buzz',\n",
       " 'Fizz',\n",
       " 'Buzz',\n",
       " 'Buzz',\n",
       " 'Fizz',\n",
       " 'Buzz',\n",
       " 'Buzz',\n",
       " 'Fizz',\n",
       " 'Buzz',\n",
       " 'Buzz',\n",
       " 'Fizz',\n",
       " 'Buzz',\n",
       " 'Buzz',\n",
       " 'FizzBuzz',\n",
       " 'Buzz',\n",
       " 'Buzz',\n",
       " 'Fizz',\n",
       " 'Buzz',\n",
       " 'Buzz',\n",
       " 'Fizz',\n",
       " 'Buzz',\n",
       " 'Buzz',\n",
       " 'Fizz']"
      ]
     },
     "execution_count": 26,
     "metadata": {},
     "output_type": "execute_result"
    }
   ],
   "source": [
    "# BONUS: Make a list comprehension that implements FizzBuzz on the previous list\n",
    "# FizzBuzz replaces multiples of 3 with \"Fizz\", multiples of 5 with \"Buzz\" and multiples of both 3 and 5 with \"FizzBuzz\"\n",
    "# HINT: use a conditional in the expression at the beginning of the list comprehension\n",
    "\n",
    "['FizzBuzz' if (x%3==0 and x%5==0 ) else ( 'Fizz' if x%3==0 else 'Buzz') for x in range(100)]\n"
   ]
  }
 ],
 "metadata": {
  "kernelspec": {
   "display_name": "Python 3",
   "language": "python",
   "name": "python3"
  },
  "language_info": {
   "codemirror_mode": {
    "name": "ipython",
    "version": 3
   },
   "file_extension": ".py",
   "mimetype": "text/x-python",
   "name": "python",
   "nbconvert_exporter": "python",
   "pygments_lexer": "ipython3",
   "version": "3.9.7"
  }
 },
 "nbformat": 4,
 "nbformat_minor": 2
}
